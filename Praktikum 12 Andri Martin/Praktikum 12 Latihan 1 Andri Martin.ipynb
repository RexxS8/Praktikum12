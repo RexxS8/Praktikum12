{
 "cells": [
  {
   "cell_type": "code",
   "execution_count": 1,
   "metadata": {},
   "outputs": [
    {
     "name": "stdout",
     "output_type": "stream",
     "text": [
      "             Negara       Ibu Kota    Benua   Luas  Populasi\n",
      "0         Indonesia        Jakarta     Asia   1905       264\n",
      "1            Jepang          Tokyo     Asia    377       143\n",
      "2             India      New Delhi     Asia   3287      1252\n",
      "3             China        Beijing     Asia   9597      1357\n",
      "4   Amerika Serikat  Washington DC  Amerika   9834       329\n",
      "5            Brazil       Brazilia  Amerika   8515       210\n",
      "6             Rusia         Moskow     Asia  17098       146\n",
      "7           Meksiko   Meksiko City  Amerika   1964       126\n",
      "8           Nigeria          Abuja   Afrika    923       200\n",
      "9            Jerman         Berlin    Eropa    357        83\n",
      "10         Aljazair       Aljazair   Afrika   2381        43\n",
      "11          Inggris         London    Eropa    242        66\n",
      "           Luas    Populasi\n",
      "Benua                      \n",
      "Afrika   1652.0  121.500000\n",
      "Amerika  6771.0  221.666667\n",
      "Asia     6452.8  632.400000\n",
      "Eropa     299.5   74.500000\n",
      "                Luas    Populasi\n",
      "Benua                           \n",
      "Afrika   1030.961687  111.015765\n",
      "Amerika  4214.899406  102.001634\n",
      "Asia     6906.996395  616.596546\n",
      "Eropa      81.317280   12.020815\n"
     ]
    }
   ],
   "source": [
    "import pandas as pd\n",
    "\n",
    "data= pd.read_csv(\"Negara.csv\")\n",
    "\n",
    "df = pd.DataFrame(data)\n",
    "mean = df.groupby(['Benua']).mean()\n",
    "std = df.groupby(['Benua']).std()\n",
    "\n",
    "print(data)\n",
    "print(mean)\n",
    "print(std)"
   ]
  },
  {
   "cell_type": "code",
   "execution_count": 1,
   "metadata": {},
   "outputs": [
    {
     "name": "stdout",
     "output_type": "stream",
     "text": [
      "             Negara       Ibu Kota    Benua   Luas  Populasi\n",
      "0         Indonesia        Jakarta     Asia   1905       264\n",
      "1            Jepang          Tokyo     Asia    377       143\n",
      "2             India      New Delhi     Asia   3287      1252\n",
      "3             China        Beijing     Asia   9597      1357\n",
      "4   Amerika Serikat  Washington DC  Amerika   9834       329\n",
      "5            Brazil       Brazilia  Amerika   8515       210\n",
      "6             Rusia         Moskow     Asia  17098       146\n",
      "7           Meksiko   Meksiko City  Amerika   1964       126\n",
      "8           Nigeria          Abuja   Afrika    923       200\n",
      "9            Jerman         Berlin    Eropa    357        83\n",
      "10         Aljazair       Aljazair   Afrika   2381        43\n",
      "11          Inggris         London    Eropa    242        66\n",
      "           Luas    Populasi\n",
      "Benua                      \n",
      "Afrika   1652.0  121.500000\n",
      "Amerika  6771.0  221.666667\n",
      "Asia     6452.8  632.400000\n",
      "Eropa     299.5   74.500000\n",
      "                Luas    Populasi\n",
      "Benua                           \n",
      "Afrika   1030.961687  111.015765\n",
      "Amerika  4214.899406  102.001634\n",
      "Asia     6906.996395  616.596546\n",
      "Eropa      81.317280   12.020815\n"
     ]
    }
   ],
   "source": [
    "import pandas as pd\n",
    "\n",
    "data= pd.read_csv(\"Negara.csv\")\n",
    "\n",
    "df = pd.DataFrame(data)\n",
    "mean = df.groupby(['Benua']).mean()\n",
    "std = df.groupby(['Benua']).std()\n",
    "\n",
    "print(data)\n",
    "print(mean)\n",
    "print(std)"
   ]
  },
  {
   "cell_type": "code",
   "execution_count": null,
   "metadata": {},
   "outputs": [],
   "source": []
  }
 ],
 "metadata": {
  "kernelspec": {
   "display_name": "Python 3",
   "language": "python",
   "name": "python3"
  },
  "language_info": {
   "codemirror_mode": {
    "name": "ipython",
    "version": 3
   },
   "file_extension": ".py",
   "mimetype": "text/x-python",
   "name": "python",
   "nbconvert_exporter": "python",
   "pygments_lexer": "ipython3",
   "version": "3.8.5"
  }
 },
 "nbformat": 4,
 "nbformat_minor": 4
}
